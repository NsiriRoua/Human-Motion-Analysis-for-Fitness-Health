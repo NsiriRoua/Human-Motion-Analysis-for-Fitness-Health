{
  "nbformat": 4,
  "nbformat_minor": 0,
  "metadata": {
    "colab": {
      "name": "Dataset Creation.ipynb",
      "provenance": [],
      "include_colab_link": true
    },
    "kernelspec": {
      "name": "python3",
      "display_name": "Python 3"
    },
    "language_info": {
      "name": "python"
    }
  },
  "cells": [
    {
      "cell_type": "markdown",
      "metadata": {
        "id": "view-in-github",
        "colab_type": "text"
      },
      "source": [
        "<a href=\"https://colab.research.google.com/github/NsiriRoua/Yoga-Pose-Estimation/blob/main/Dataset_Creation.ipynb\" target=\"_parent\"><img src=\"https://colab.research.google.com/assets/colab-badge.svg\" alt=\"Open In Colab\"/></a>"
      ]
    },
    {
      "cell_type": "code",
      "source": [
        "from google.colab import drive\n",
        "drive.mount('/content/drive')"
      ],
      "metadata": {
        "id": "CCBHlvXkbbJK",
        "outputId": "abbd2c55-43c6-43e7-b57a-fc5467c3b345",
        "colab": {
          "base_uri": "https://localhost:8080/"
        }
      },
      "execution_count": null,
      "outputs": [
        {
          "output_type": "stream",
          "name": "stdout",
          "text": [
            "Mounted at /content/drive\n"
          ]
        }
      ]
    },
    {
      "cell_type": "code",
      "source": [
        "!pip install moviepy==1.0.2"
      ],
      "metadata": {
        "id": "byS9nf8iCLwF"
      },
      "execution_count": null,
      "outputs": []
    },
    {
      "cell_type": "code",
      "source": [
        "from moviepy.video.io.ffmpeg_tools import ffmpeg_extract_subclip"
      ],
      "metadata": {
        "id": "Hq5F6GGgb2aJ"
      },
      "execution_count": null,
      "outputs": []
    },
    {
      "cell_type": "code",
      "source": [
        "from moviepy.video.io.VideoFileClip import VideoFileClip\n",
        "\n",
        "input_video_path = '/content/drive/MyDrive/DEEPCARTO/STEP BY STEP PLANK POSE FOR BEGINNERS _ Learn To Do PLANK In 3 Minutes _ Simple Yoga Lessons.mp4'\n",
        "output_video_path = '/content/drive/MyDrive/Human Motion Analysis for Fitness & Health/yoga_poses/plank/plank61.mp4'\n",
        "t1=58\n",
        "t2=61\n",
        "with VideoFileClip(input_video_path) as video:\n",
        "    new = video.subclip(t1, t2)\n",
        "    new.write_videofile(output_video_path, audio_codec='aac')"
      ],
      "metadata": {
        "id": "qhTByOBjdjrX"
      },
      "execution_count": null,
      "outputs": []
    }
  ]
}